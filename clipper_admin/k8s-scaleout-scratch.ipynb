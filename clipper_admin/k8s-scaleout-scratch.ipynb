{
 "cells": [
  {
   "cell_type": "markdown",
   "metadata": {},
   "source": [
    "## Setup\n",
    "\n",
    "Before running this notebook, here are some setup steps:\n",
    "+ Clone the Clipper repo (`git clone --recursive https://github.com/ucbrise/clipper.git && cd clipper`)\n",
    "+ Install Anaconda with Python 2\n",
    "+ Create a new Anaconda environment (`conda create -n ENV_NAME python=2`) and activate it (follow the Anaconda instructions).\n",
    "+ Install a local version of Clipper admin (`pip install -e ./clipper_admin`)"
   ]
  },
  {
   "cell_type": "code",
   "execution_count": 1,
   "metadata": {},
   "outputs": [
    {
     "name": "stdout",
     "output_type": "stream",
     "text": [
      "/Users/rahulbalakrishnan/Desktop/clipper/clipper_admin\r\n"
     ]
    }
   ],
   "source": [
    "!pwd"
   ]
  },
  {
   "cell_type": "code",
   "execution_count": 1,
   "metadata": {},
   "outputs": [],
   "source": [
    "from clipper_admin import ClipperConnection, KubernetesContainerManager as K8sManager"
   ]
  },
  {
   "cell_type": "code",
   "execution_count": 2,
   "metadata": {},
   "outputs": [],
   "source": [
    "cm = K8sManager(kubernetes_api_ip=\"eric-dev.clipper-k8s-dev.com\", useInternalIP=True)\n",
    "\n"
   ]
  },
  {
   "cell_type": "code",
   "execution_count": 3,
   "metadata": {},
   "outputs": [],
   "source": [
    "cl = ClipperConnection(cm)\n",
    "# cl.connect()"
   ]
  },
  {
   "cell_type": "code",
   "execution_count": 4,
   "metadata": {},
   "outputs": [
    {
     "name": "stderr",
     "output_type": "stream",
     "text": [
      "18-03-31:04:32:22 INFO     [kubernetes_container_manager.py:172] Found 5 nodes: ec2-54-186-235-230.us-west-2.compute.amazonaws.com, ec2-54-190-21-100.us-west-2.compute.amazonaws.com, ec2-54-149-160-111.us-west-2.compute.amazonaws.com, ec2-54-149-129-227.us-west-2.compute.amazonaws.com, ec2-54-201-98-152.us-west-2.compute.amazonaws.com\n",
      "18-03-31:04:32:22 INFO     [kubernetes_container_manager.py:180] Setting Clipper mgmt port to 32574\n",
      "18-03-31:04:32:22 INFO     [kubernetes_container_manager.py:184] Setting Clipper mgv2 port to 32633\n",
      "18-03-31:04:32:22 INFO     [kubernetes_container_manager.py:191] Setting Clipper query port to 30841\n",
      "18-03-31:04:32:22 INFO     [clipper_admin.py:113] Clipper still initializing.\n",
      "18-03-31:04:32:23 INFO     [clipper_admin.py:115] Clipper is running\n"
     ]
    }
   ],
   "source": [
    "nr = 2\n",
    "cl.start_clipper(num_replicas = nr)\n",
    "\n"
   ]
  },
  {
   "cell_type": "code",
   "execution_count": 8,
   "metadata": {},
   "outputs": [],
   "source": [
    "k8s_v1 = cl.cm._k8s_v1\n",
    "k8s_beta = cl.cm._k8s_beta\n",
    "# cm.set_num_replicas(\"query-frontend\", 9033148, None, None, 3)\n"
   ]
  },
  {
   "cell_type": "code",
   "execution_count": 9,
   "metadata": {
    "scrolled": false
   },
   "outputs": [
    {
     "data": {
      "text/plain": [
       "{'api_version': 'v1',\n",
       " 'kind': 'Endpoints',\n",
       " 'metadata': {'annotations': None,\n",
       "              'cluster_name': None,\n",
       "              'creation_timestamp': datetime.datetime(2018, 3, 31, 11, 32, 22, tzinfo=tzutc()),\n",
       "              'deletion_grace_period_seconds': None,\n",
       "              'deletion_timestamp': None,\n",
       "              'finalizers': None,\n",
       "              'generate_name': None,\n",
       "              'generation': None,\n",
       "              'initializers': None,\n",
       "              'labels': {u'ai.clipper.container.label': '',\n",
       "                         u'ai.clipper.name': 'mgmt-frontend'},\n",
       "              'name': 'mgmt-frontend',\n",
       "              'namespace': 'default',\n",
       "              'owner_references': None,\n",
       "              'resource_version': '17757762',\n",
       "              'self_link': '/api/v1/namespaces/default/endpoints/mgmt-frontend',\n",
       "              'uid': '2d7d0881-34d7-11e8-a8c5-022a73b21532'},\n",
       " 'subsets': [{'addresses': None,\n",
       "              'not_ready_addresses': [{'hostname': None,\n",
       "                                       'ip': '100.96.3.137',\n",
       "                                       'node_name': 'ip-172-20-43-217.us-west-2.compute.internal',\n",
       "                                       'target_ref': {'api_version': None,\n",
       "                                                      'field_path': None,\n",
       "                                                      'kind': 'Pod',\n",
       "                                                      'name': 'mgmt-frontend-983946974-wld3f',\n",
       "                                                      'namespace': 'default',\n",
       "                                                      'resource_version': '17757761',\n",
       "                                                      'uid': '2d66a8f0-34d7-11e8-a8c5-022a73b21532'}}],\n",
       "              'ports': [{'name': '1338', 'port': 1338, 'protocol': 'TCP'},\n",
       "                        {'name': '1339', 'port': 1339, 'protocol': 'TCP'}]}]}"
      ]
     },
     "execution_count": 9,
     "metadata": {},
     "output_type": "execute_result"
    }
   ],
   "source": [
    "k8s_v1.read_namespaced_endpoints(name=\"mgmt-frontend\", namespace=\"default\")\n"
   ]
  },
  {
   "cell_type": "code",
   "execution_count": 11,
   "metadata": {},
   "outputs": [
    {
     "data": {
      "text/plain": [
       "['100.96.3.138', '100.96.4.138']"
      ]
     },
     "execution_count": 11,
     "metadata": {},
     "output_type": "execute_result"
    }
   ],
   "source": [
    "endpoints = k8s_v1.read_namespaced_endpoints(name=\"query-frontend\", namespace=\"default\")\n",
    "query_frontend_ips = [addr.ip for addr in endpoints.subsets[0].addresses]\n",
    "query_frontend_ips"
   ]
  },
  {
   "cell_type": "code",
   "execution_count": 7,
   "metadata": {},
   "outputs": [
    {
     "data": {
      "text/plain": [
       "['100.96.4.85']"
      ]
     },
     "execution_count": 7,
     "metadata": {},
     "output_type": "execute_result"
    }
   ],
   "source": [
    "ep2 = k8s_v1.read_namespaced_endpoints(name=\"redis\", namespace=\"default\")\n",
    "qf2 = [addr.ip for addr in ep2.subsets[0].addresses]\n",
    "qf2"
   ]
  },
  {
   "cell_type": "code",
   "execution_count": 6,
   "metadata": {},
   "outputs": [],
   "source": []
  },
  {
   "cell_type": "code",
   "execution_count": 5,
   "metadata": {},
   "outputs": [
    {
     "name": "stderr",
     "output_type": "stream",
     "text": [
      "18-03-31:04:32:33 INFO     [clipper_admin.py:393] Building model Docker image with model data from test.txt\n",
      "18-03-31:04:32:33 INFO     [clipper_admin.py:395] <Image: 'test-model:1', 'rbala19/dead-model1:1', 'rbala19/dead-model2:1', 'rbala19/test-model1:1', 'rbala19/test-model1:2', 'rbala19/test-model1:3', 'rbala19/test-model1:4', 'rbala19/test-model1:develop', 'rbala19/test-model2:1', 'rbala19/test-model2:develop', 'rbala19/test-model3:develop', 'rbala19/test-model4:develop', 'rbala19/test-model:1'>\n",
      "18-03-31:04:32:33 INFO     [clipper_admin.py:397] Pushing model Docker image to rbala19/test-model1:1\n",
      "18-03-31:04:32:37 INFO     [kubernetes_container_manager.py:300] Finished deploying model\n",
      "18-03-31:04:32:37 INFO     [kubernetes_container_manager.py:305] Size of ret is 2\n",
      "18-03-31:04:32:37 INFO     [clipper_admin.py:1101] Posted successfully\n"
     ]
    },
    {
     "ename": "ConnectionError",
     "evalue": "HTTPConnectionPool(host='ec2-54-186-235-230.us-west-2.compute.amazonaws.com', port=32574): Max retries exceeded with url: /admin/add_model (Caused by NewConnectionError('<urllib3.connection.HTTPConnection object at 0x10409ee90>: Failed to establish a new connection: [Errno 61] Connection refused',))",
     "output_type": "error",
     "traceback": [
      "\u001b[0;31m---------------------------------------------------------------------------\u001b[0m",
      "\u001b[0;31mConnectionError\u001b[0m                           Traceback (most recent call last)",
      "\u001b[0;32m<ipython-input-5-dce3c7e6b9ef>\u001b[0m in \u001b[0;36m<module>\u001b[0;34m()\u001b[0m\n\u001b[1;32m     10\u001b[0m \u001b[0;34m\u001b[0m\u001b[0m\n\u001b[1;32m     11\u001b[0m cl.build_and_deploy_model(model_name, 1, \"ints\", \"test.txt\", \"clipper/noop-container:{}\".format(v),\n\u001b[0;32m---> 12\u001b[0;31m                           container_registry = \"rbala19\", num_replicas = nr)\n\u001b[0m\u001b[1;32m     13\u001b[0m \u001b[0;34m\u001b[0m\u001b[0m\n\u001b[1;32m     14\u001b[0m \u001b[0;31m# cl2.build_model(\u001b[0m\u001b[0;34m\u001b[0m\u001b[0;34m\u001b[0m\u001b[0m\n",
      "\u001b[0;32m/Users/rahulbalakrishnan/Desktop/clipper/clipper_admin/clipper_admin/clipper_admin.pyc\u001b[0m in \u001b[0;36mbuild_and_deploy_model\u001b[0;34m(self, name, version, input_type, model_data_path, base_image, labels, container_registry, num_replicas, batch_size)\u001b[0m\n\u001b[1;32m    303\u001b[0m                                  container_registry)\n\u001b[1;32m    304\u001b[0m         self.deploy_model(name, version, input_type, image, labels,\n\u001b[0;32m--> 305\u001b[0;31m                           num_replicas, batch_size)\n\u001b[0m\u001b[1;32m    306\u001b[0m \u001b[0;34m\u001b[0m\u001b[0m\n\u001b[1;32m    307\u001b[0m     def build_model(self,\n",
      "\u001b[0;32m/Users/rahulbalakrishnan/Desktop/clipper/clipper_admin/clipper_admin/clipper_admin.pyc\u001b[0m in \u001b[0;36mdeploy_model\u001b[0;34m(self, name, version, input_type, image, labels, num_replicas, batch_size)\u001b[0m\n\u001b[1;32m    486\u001b[0m             \u001b[0mimage\u001b[0m\u001b[0;34m=\u001b[0m\u001b[0mimage\u001b[0m\u001b[0;34m,\u001b[0m\u001b[0;34m\u001b[0m\u001b[0m\n\u001b[1;32m    487\u001b[0m             \u001b[0mlabels\u001b[0m\u001b[0;34m=\u001b[0m\u001b[0mlabels\u001b[0m\u001b[0;34m,\u001b[0m\u001b[0;34m\u001b[0m\u001b[0m\n\u001b[0;32m--> 488\u001b[0;31m             batch_size=batch_size)\n\u001b[0m\u001b[1;32m    489\u001b[0m \u001b[0;34m\u001b[0m\u001b[0m\n\u001b[1;32m    490\u001b[0m         logger.info(\"Done deploying model {name}:{version}.\".format(\n",
      "\u001b[0;32m/Users/rahulbalakrishnan/Desktop/clipper/clipper_admin/clipper_admin/clipper_admin.pyc\u001b[0m in \u001b[0;36mregister_model\u001b[0;34m(self, name, version, input_type, image, labels, batch_size)\u001b[0m\n\u001b[1;32m    561\u001b[0m         \u001b[0mheaders\u001b[0m \u001b[0;34m=\u001b[0m \u001b[0;34m{\u001b[0m\u001b[0;34m'Content-type'\u001b[0m\u001b[0;34m:\u001b[0m \u001b[0;34m'application/json'\u001b[0m\u001b[0;34m}\u001b[0m\u001b[0;34m\u001b[0m\u001b[0m\n\u001b[1;32m    562\u001b[0m         \u001b[0mlogger\u001b[0m\u001b[0;34m.\u001b[0m\u001b[0mdebug\u001b[0m\u001b[0;34m(\u001b[0m\u001b[0mreq_json\u001b[0m\u001b[0;34m)\u001b[0m\u001b[0;34m\u001b[0m\u001b[0m\n\u001b[0;32m--> 563\u001b[0;31m         \u001b[0mr\u001b[0m \u001b[0;34m=\u001b[0m \u001b[0mrequests\u001b[0m\u001b[0;34m.\u001b[0m\u001b[0mpost\u001b[0m\u001b[0;34m(\u001b[0m\u001b[0murl\u001b[0m\u001b[0;34m,\u001b[0m \u001b[0mheaders\u001b[0m\u001b[0;34m=\u001b[0m\u001b[0mheaders\u001b[0m\u001b[0;34m,\u001b[0m \u001b[0mdata\u001b[0m\u001b[0;34m=\u001b[0m\u001b[0mreq_json\u001b[0m\u001b[0;34m)\u001b[0m\u001b[0;34m\u001b[0m\u001b[0m\n\u001b[0m\u001b[1;32m    564\u001b[0m         \u001b[0mlogger\u001b[0m\u001b[0;34m.\u001b[0m\u001b[0mdebug\u001b[0m\u001b[0;34m(\u001b[0m\u001b[0mr\u001b[0m\u001b[0;34m.\u001b[0m\u001b[0mtext\u001b[0m\u001b[0;34m)\u001b[0m\u001b[0;34m\u001b[0m\u001b[0m\n\u001b[1;32m    565\u001b[0m         \u001b[0;32mif\u001b[0m \u001b[0mr\u001b[0m\u001b[0;34m.\u001b[0m\u001b[0mstatus_code\u001b[0m \u001b[0;34m!=\u001b[0m \u001b[0mrequests\u001b[0m\u001b[0;34m.\u001b[0m\u001b[0mcodes\u001b[0m\u001b[0;34m.\u001b[0m\u001b[0mok\u001b[0m\u001b[0;34m:\u001b[0m\u001b[0;34m\u001b[0m\u001b[0m\n",
      "\u001b[0;32m/Users/rahulbalakrishnan/anaconda3/envs/env2/lib/python2.7/site-packages/requests/api.pyc\u001b[0m in \u001b[0;36mpost\u001b[0;34m(url, data, json, **kwargs)\u001b[0m\n\u001b[1;32m    110\u001b[0m     \"\"\"\n\u001b[1;32m    111\u001b[0m \u001b[0;34m\u001b[0m\u001b[0m\n\u001b[0;32m--> 112\u001b[0;31m     \u001b[0;32mreturn\u001b[0m \u001b[0mrequest\u001b[0m\u001b[0;34m(\u001b[0m\u001b[0;34m'post'\u001b[0m\u001b[0;34m,\u001b[0m \u001b[0murl\u001b[0m\u001b[0;34m,\u001b[0m \u001b[0mdata\u001b[0m\u001b[0;34m=\u001b[0m\u001b[0mdata\u001b[0m\u001b[0;34m,\u001b[0m \u001b[0mjson\u001b[0m\u001b[0;34m=\u001b[0m\u001b[0mjson\u001b[0m\u001b[0;34m,\u001b[0m \u001b[0;34m**\u001b[0m\u001b[0mkwargs\u001b[0m\u001b[0;34m)\u001b[0m\u001b[0;34m\u001b[0m\u001b[0m\n\u001b[0m\u001b[1;32m    113\u001b[0m \u001b[0;34m\u001b[0m\u001b[0m\n\u001b[1;32m    114\u001b[0m \u001b[0;34m\u001b[0m\u001b[0m\n",
      "\u001b[0;32m/Users/rahulbalakrishnan/anaconda3/envs/env2/lib/python2.7/site-packages/requests/api.pyc\u001b[0m in \u001b[0;36mrequest\u001b[0;34m(method, url, **kwargs)\u001b[0m\n\u001b[1;32m     56\u001b[0m     \u001b[0;31m# cases, and look like a memory leak in others.\u001b[0m\u001b[0;34m\u001b[0m\u001b[0;34m\u001b[0m\u001b[0m\n\u001b[1;32m     57\u001b[0m     \u001b[0;32mwith\u001b[0m \u001b[0msessions\u001b[0m\u001b[0;34m.\u001b[0m\u001b[0mSession\u001b[0m\u001b[0;34m(\u001b[0m\u001b[0;34m)\u001b[0m \u001b[0;32mas\u001b[0m \u001b[0msession\u001b[0m\u001b[0;34m:\u001b[0m\u001b[0;34m\u001b[0m\u001b[0m\n\u001b[0;32m---> 58\u001b[0;31m         \u001b[0;32mreturn\u001b[0m \u001b[0msession\u001b[0m\u001b[0;34m.\u001b[0m\u001b[0mrequest\u001b[0m\u001b[0;34m(\u001b[0m\u001b[0mmethod\u001b[0m\u001b[0;34m=\u001b[0m\u001b[0mmethod\u001b[0m\u001b[0;34m,\u001b[0m \u001b[0murl\u001b[0m\u001b[0;34m=\u001b[0m\u001b[0murl\u001b[0m\u001b[0;34m,\u001b[0m \u001b[0;34m**\u001b[0m\u001b[0mkwargs\u001b[0m\u001b[0;34m)\u001b[0m\u001b[0;34m\u001b[0m\u001b[0m\n\u001b[0m\u001b[1;32m     59\u001b[0m \u001b[0;34m\u001b[0m\u001b[0m\n\u001b[1;32m     60\u001b[0m \u001b[0;34m\u001b[0m\u001b[0m\n",
      "\u001b[0;32m/Users/rahulbalakrishnan/anaconda3/envs/env2/lib/python2.7/site-packages/requests/sessions.pyc\u001b[0m in \u001b[0;36mrequest\u001b[0;34m(self, method, url, params, data, headers, cookies, files, auth, timeout, allow_redirects, proxies, hooks, stream, verify, cert, json)\u001b[0m\n\u001b[1;32m    506\u001b[0m         }\n\u001b[1;32m    507\u001b[0m         \u001b[0msend_kwargs\u001b[0m\u001b[0;34m.\u001b[0m\u001b[0mupdate\u001b[0m\u001b[0;34m(\u001b[0m\u001b[0msettings\u001b[0m\u001b[0;34m)\u001b[0m\u001b[0;34m\u001b[0m\u001b[0m\n\u001b[0;32m--> 508\u001b[0;31m         \u001b[0mresp\u001b[0m \u001b[0;34m=\u001b[0m \u001b[0mself\u001b[0m\u001b[0;34m.\u001b[0m\u001b[0msend\u001b[0m\u001b[0;34m(\u001b[0m\u001b[0mprep\u001b[0m\u001b[0;34m,\u001b[0m \u001b[0;34m**\u001b[0m\u001b[0msend_kwargs\u001b[0m\u001b[0;34m)\u001b[0m\u001b[0;34m\u001b[0m\u001b[0m\n\u001b[0m\u001b[1;32m    509\u001b[0m \u001b[0;34m\u001b[0m\u001b[0m\n\u001b[1;32m    510\u001b[0m         \u001b[0;32mreturn\u001b[0m \u001b[0mresp\u001b[0m\u001b[0;34m\u001b[0m\u001b[0m\n",
      "\u001b[0;32m/Users/rahulbalakrishnan/anaconda3/envs/env2/lib/python2.7/site-packages/requests/sessions.pyc\u001b[0m in \u001b[0;36msend\u001b[0;34m(self, request, **kwargs)\u001b[0m\n\u001b[1;32m    616\u001b[0m \u001b[0;34m\u001b[0m\u001b[0m\n\u001b[1;32m    617\u001b[0m         \u001b[0;31m# Send the request\u001b[0m\u001b[0;34m\u001b[0m\u001b[0;34m\u001b[0m\u001b[0m\n\u001b[0;32m--> 618\u001b[0;31m         \u001b[0mr\u001b[0m \u001b[0;34m=\u001b[0m \u001b[0madapter\u001b[0m\u001b[0;34m.\u001b[0m\u001b[0msend\u001b[0m\u001b[0;34m(\u001b[0m\u001b[0mrequest\u001b[0m\u001b[0;34m,\u001b[0m \u001b[0;34m**\u001b[0m\u001b[0mkwargs\u001b[0m\u001b[0;34m)\u001b[0m\u001b[0;34m\u001b[0m\u001b[0m\n\u001b[0m\u001b[1;32m    619\u001b[0m \u001b[0;34m\u001b[0m\u001b[0m\n\u001b[1;32m    620\u001b[0m         \u001b[0;31m# Total elapsed time of the request (approximately)\u001b[0m\u001b[0;34m\u001b[0m\u001b[0;34m\u001b[0m\u001b[0m\n",
      "\u001b[0;32m/Users/rahulbalakrishnan/anaconda3/envs/env2/lib/python2.7/site-packages/requests/adapters.pyc\u001b[0m in \u001b[0;36msend\u001b[0;34m(self, request, stream, timeout, verify, cert, proxies)\u001b[0m\n\u001b[1;32m    506\u001b[0m                 \u001b[0;32mraise\u001b[0m \u001b[0mSSLError\u001b[0m\u001b[0;34m(\u001b[0m\u001b[0me\u001b[0m\u001b[0;34m,\u001b[0m \u001b[0mrequest\u001b[0m\u001b[0;34m=\u001b[0m\u001b[0mrequest\u001b[0m\u001b[0;34m)\u001b[0m\u001b[0;34m\u001b[0m\u001b[0m\n\u001b[1;32m    507\u001b[0m \u001b[0;34m\u001b[0m\u001b[0m\n\u001b[0;32m--> 508\u001b[0;31m             \u001b[0;32mraise\u001b[0m \u001b[0mConnectionError\u001b[0m\u001b[0;34m(\u001b[0m\u001b[0me\u001b[0m\u001b[0;34m,\u001b[0m \u001b[0mrequest\u001b[0m\u001b[0;34m=\u001b[0m\u001b[0mrequest\u001b[0m\u001b[0;34m)\u001b[0m\u001b[0;34m\u001b[0m\u001b[0m\n\u001b[0m\u001b[1;32m    509\u001b[0m \u001b[0;34m\u001b[0m\u001b[0m\n\u001b[1;32m    510\u001b[0m         \u001b[0;32mexcept\u001b[0m \u001b[0mClosedPoolError\u001b[0m \u001b[0;32mas\u001b[0m \u001b[0me\u001b[0m\u001b[0;34m:\u001b[0m\u001b[0;34m\u001b[0m\u001b[0m\n",
      "\u001b[0;31mConnectionError\u001b[0m: HTTPConnectionPool(host='ec2-54-186-235-230.us-west-2.compute.amazonaws.com', port=32574): Max retries exceeded with url: /admin/add_model (Caused by NewConnectionError('<urllib3.connection.HTTPConnection object at 0x10409ee90>: Failed to establish a new connection: [Errno 61] Connection refused',))"
     ]
    }
   ],
   "source": [
    "from clipper_admin import __version__ as v\n",
    "# from clipper_admin.deployers import python as python_deployer\n",
    "# python_deployer.deploy_python_closure(cl, name=\"sum-model\", version=1, input_type=\"doubles\", func=feature_sum)\n",
    "# cl.link_model_to_app(app_name=\"hello-world\", model_name=\"sum-model\")\n",
    "\n",
    "# from clipper_admin import ClipperConnection, DockerContainerManager as dl\n",
    "# cl2 = ClipperConnection(dl())\n",
    "\n",
    "model_name = \"test-model1\"\n",
    "\n",
    "cl.build_and_deploy_model(model_name, 1, \"ints\", \"test.txt\", \"clipper/noop-container:{}\".format(v),\n",
    "                          container_registry = \"rbala19\", num_replicas = nr)\n",
    "\n",
    "# cl2.build_model(\n",
    "#         model_name,\n",
    "#         v,\n",
    "#         \"test.txt\",\n",
    "#         \"clipper/noop-container:{}\".format(v),\n",
    "#         container_registry = \"rbala19\")\n",
    "\n",
    "# # cl.build_model(\n",
    "# #         \"test-model\",\n",
    "# #         1,\n",
    "# #         \"test.txt\",\n",
    "# #         \"clipper/noop-container:{}\".format(v),\n",
    "# #         container_registry = \"rbala19\")\n",
    "\n",
    "# cm.deploy_model(model_name, \n",
    "#                 v, \n",
    "#                 \"ints\", \n",
    "#                 \"clipper/noop-container:{}\".format(v)\n",
    "#                )\n",
    "\n",
    "\n",
    "\n",
    "\n",
    "\n",
    "\n"
   ]
  },
  {
   "cell_type": "code",
   "execution_count": 10,
   "metadata": {},
   "outputs": [
    {
     "name": "stderr",
     "output_type": "stream",
     "text": [
      "18-03-27:18:05:51 INFO     [clipper_admin.py:395] Building model Docker image with model data from test.txt\n",
      "18-03-27:18:05:51 INFO     [clipper_admin.py:397] <Image: 'test-model:1', 'rbala19/dead-model1:1', 'rbala19/dead-model2:1', 'rbala19/test-model1:1', 'rbala19/test-model1:2', 'rbala19/test-model1:3', 'rbala19/test-model1:4', 'rbala19/test-model1:develop', 'rbala19/test-model2:1', 'rbala19/test-model2:develop', 'rbala19/test-model3:develop', 'rbala19/test-model4:develop', 'rbala19/test-model:1'>\n",
      "18-03-27:18:05:51 INFO     [clipper_admin.py:399] Pushing model Docker image to rbala19/dead-model1:1\n",
      "Traceback (most recent call last):\n",
      "  File \"clipper_admin/kubernetes/kubernetes_container_manager.py\", line 297, in deploy_model\n",
      "    self.stop_models([original_name])\n",
      "  File \"clipper_admin/kubernetes/kubernetes_container_manager.py\", line 422, in stop_models\n",
      "    for v in models[m]:\n",
      "TypeError: list indices must be integers, not str\n",
      "18-03-27:18:05:57 INFO     [kubernetes_container_manager.py:361] Finished deploying model\n",
      "18-03-27:18:05:57 INFO     [kubernetes_container_manager.py:270] Posted successfully\n"
     ]
    }
   ],
   "source": [
    "model_name = \"dead-model1\"\n",
    "\n",
    "# cl.build_and_deploy_model(model_name, 1, \"ints\", \"test.txt\", \"clipper/noop-container:{}\".format(v),\n",
    "#                           container_registry = \"rbala19\", num_replicas = 1, new_ip = '100.96.4.98')\n",
    "\n",
    "\n",
    "cl.build_model(model_name, 1, \"test.txt\", \"clipper/noop-container:{}\".format(v), container_registry = \"rbala19\")\n",
    "\n",
    "cm.deploy_model(model_name, 1, \"ints\", \"clipper/noop-container:{}\".format(v), 1, '100.96.3.117')\n"
   ]
  },
  {
   "cell_type": "code",
   "execution_count": 16,
   "metadata": {},
   "outputs": [
    {
     "name": "stdout",
     "output_type": "stream",
     "text": [
      "None\n"
     ]
    }
   ],
   "source": [
    "import redis\n",
    "r = redis.Redis()\n",
    "print(r.get('100.96.3.71'))"
   ]
  },
  {
   "cell_type": "markdown",
   "metadata": {},
   "source": [
    "# Notes\n",
    "\n",
    "### Considerations when rebalancing model containers\n",
    "When the number of query frontend replicas changes and we rebalance, we need to tell some of the model containers that the query frontend IP address has changed and they should re-connect to the new address. The easiest way to do so is by simply killing the containers and restarting them. But for containers with a long initialization time, it would potentially be a useful optimization if we could have them reconnect to a new address without restarting. One potential drawback with this is if one of those swapped model containers dies and is re-started by Kubernetes, I believe it will be restarted with the Docker runtime arguments it was originally started with. As a result, this will cause it to attempt to re-connect to the original query-frontend replica which no longer exists.\n",
    "\n",
    "### Where to store Clipper cluster state?"
   ]
  },
  {
   "cell_type": "code",
   "execution_count": null,
   "metadata": {
    "collapsed": true
   },
   "outputs": [],
   "source": []
  }
 ],
 "metadata": {
  "anaconda-cloud": {},
  "kernelspec": {
   "display_name": "Python 2",
   "language": "python",
   "name": "python2"
  },
  "language_info": {
   "codemirror_mode": {
    "name": "ipython",
    "version": 2
   },
   "file_extension": ".py",
   "mimetype": "text/x-python",
   "name": "python",
   "nbconvert_exporter": "python",
   "pygments_lexer": "ipython2",
   "version": "2.7.14"
  }
 },
 "nbformat": 4,
 "nbformat_minor": 2
}
